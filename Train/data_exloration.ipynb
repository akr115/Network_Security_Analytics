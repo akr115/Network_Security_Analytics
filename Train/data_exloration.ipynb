{
 "cells": [
  {
   "cell_type": "code",
   "execution_count": null,
   "id": "0",
   "metadata": {},
   "outputs": [],
   "source": [
    "# Cell 1 - imports\n",
    "\n",
    "import pandas as pd\n",
    "import matplotlib.pyplot as plt\n",
    "import seaborn as sns\n"
   ]
  },
  {
   "cell_type": "code",
   "execution_count": null,
   "id": "1",
   "metadata": {},
   "outputs": [],
   "source": [
    "# Cell 2 - Load Data\n",
    "\n",
    "data_dir_name = \"data/\"\n",
    "file_list = [ \n",
    "             \"Friday-WorkingHours-Afternoon-DDos.pcap_ISCX.csv\", \n",
    "             \"Friday-WorkingHours-Afternoon-PortScan.pcap_ISCX.csv\",\n",
    "             \"Friday-WorkingHours-Morning.pcap_ISCX.csv\",\n",
    "             \"Monday-WorkingHours.pcap_ISCX.csv\",\n",
    "             \"Thursday-WorkingHours-Afternoon-Infilteration.pcap_ISCX.csv\",\n",
    "             \"Thursday-WorkingHours-Morning-WebAttacks.pcap_ISCX.csv\",\n",
    "             \"Tuesday-WorkingHours.pcap_ISCX.csv\",\n",
    "             \"Wednesday-workingHours.pcap_ISCX.csv\"\n",
    "             ]\n",
    "\n",
    "# Combine all files into a single DataFrame\n",
    "data_frames = []\n",
    "df = pd.DataFrame()\n",
    "for file_name in file_list:\n",
    "    df = pd.read_csv(data_dir_name + file_name)\n",
    "    data_frames.append(df)\n",
    "combined_data = pd.concat(data_frames, ignore_index=True)\n",
    "\n",
    "\n",
    "print(\"Combined data shape:\", combined_data.shape)\n",
    "print(\"Columns in the dataset:\", combined_data.columns.tolist())\n",
    "# Display first few rows of the combined dataset\n",
    "print(combined_data.head())"
   ]
  },
  {
   "cell_type": "code",
   "execution_count": null,
   "id": "2",
   "metadata": {},
   "outputs": [],
   "source": [
    "# Cell 3 - Visualize the distribution of the target variable\n",
    "\n",
    "#clean column name if needed\n",
    "combined_data.columns = combined_data.columns.str.strip()\n",
    "\n",
    "#clean label values\n",
    "combined_data['Label'] = combined_data['Label'].str.strip()\n",
    "\n",
    "#get distribution\n",
    "label_counts = combined_data['Label'].value_counts()\n",
    "\n",
    "#plot\n",
    "plt.figure(figsize=(12, 6))\n",
    "sns.barplot(x=label_counts.index, y=label_counts.values)\n",
    "plt.xticks(rotation=45, ha='right')\n",
    "plt.title(\"Distribution of Traffic Types in Wednesday Dataset\")\n",
    "plt.xlabel(\"Traffic Label\")\n",
    "plt.ylabel(\"Number of Records\")\n",
    "plt.grid(True)\n",
    "plt.tight_layout()\n",
    "plt.show()\n",
    "\n",
    "#shows class ratios\n",
    "print(label_counts)"
   ]
  },
  {
   "cell_type": "code",
   "execution_count": null,
   "id": "3",
   "metadata": {},
   "outputs": [],
   "source": [
    "# Cell 4\n",
    "\n",
    "# Drop columns with all drop IPS, ports, IDs, etc.\n",
    "# to avoid data leakage\n",
    "columns_to_drop = ['Flow ID', 'Source IP', 'Destination IP', 'Timestamp', 'Fwd Header Length.1']  # adjust as needed\n",
    "\n",
    "for col in columns_to_drop:\n",
    "    if col in combined_data.columns:\n",
    "        combined_data.drop(col, axis=1, inplace=True)\n",
    "\n",
    "#drop constant columns(same value or not unique value for every row)\n",
    "nunique = combined_data.nunique()\n",
    "constant_cols = nunique[nunique <= 1].index.tolist()\n",
    "combined_data.drop(constant_cols, axis=1, inplace=True)\n",
    "\n",
    "#print remaining columns\n",
    "print(f\"Remaining columns: {combined_data.columns.tolist()}\")"
   ]
  },
  {
   "cell_type": "code",
   "execution_count": null,
   "id": "4",
   "metadata": {},
   "outputs": [],
   "source": []
  }
 ],
 "metadata": {
  "kernelspec": {
   "display_name": "base",
   "language": "python",
   "name": "python3"
  },
  "language_info": {
   "codemirror_mode": {
    "name": "ipython",
    "version": 3
   },
   "file_extension": ".py",
   "mimetype": "text/x-python",
   "name": "python",
   "nbconvert_exporter": "python",
   "pygments_lexer": "ipython3",
   "version": "3.11.7"
  }
 },
 "nbformat": 4,
 "nbformat_minor": 5
}
